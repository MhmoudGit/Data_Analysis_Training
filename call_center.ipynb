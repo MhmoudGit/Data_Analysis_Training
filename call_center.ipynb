{
 "cells": [
  {
   "cell_type": "code",
   "execution_count": 2,
   "metadata": {},
   "outputs": [],
   "source": [
    "import pandas as pd\n",
    "import numpy as py\n",
    "import matplotlib as plt"
   ]
  },
  {
   "attachments": {},
   "cell_type": "markdown",
   "metadata": {},
   "source": [
    "### Goals of This notebook training\n",
    "-  get all incoming calls\n",
    "-  gel all answered calls\n",
    "-  get abandoned calls\n",
    "-  average customer satisfacton\n",
    "-  agents above cSat\n",
    "-  top agents by cSat\n",
    "-  month with most abondoned calls\n",
    "-  month with highest cSat"
   ]
  },
  {
   "cell_type": "code",
   "execution_count": 52,
   "metadata": {},
   "outputs": [
    {
     "name": "stdout",
     "output_type": "stream",
     "text": [
      "  Call Id    Agent        Date      Time              Topic Answered (Y/N)  \\\n",
      "0  ID0001    Diane  2021-01-01   9:12:58   Contract related              Y   \n",
      "1  ID0002    Becky  2021-01-01   9:12:58  Technical Support              Y   \n",
      "2  ID0003  Stewart  2021-01-01   9:47:31   Contract related              Y   \n",
      "3  ID0004     Greg  2021-01-01   9:47:31   Contract related              Y   \n",
      "4  ID0005    Becky  2021-01-01  10:00:29    Payment related              Y   \n",
      "\n",
      "  Resolved  Speed of answer in seconds AvgTalkDuration  Satisfaction rating  \n",
      "0        Y                       109.0         0:02:23                  3.0  \n",
      "1        N                        70.0         0:04:02                  3.0  \n",
      "2        Y                        10.0         0:02:11                  3.0  \n",
      "3        Y                        53.0         0:00:37                  2.0  \n",
      "4        Y                        95.0         0:01:00                  3.0  \n",
      "<class 'pandas.core.frame.DataFrame'>\n",
      "RangeIndex: 5000 entries, 0 to 4999\n",
      "Data columns (total 10 columns):\n",
      " #   Column                      Non-Null Count  Dtype  \n",
      "---  ------                      --------------  -----  \n",
      " 0   Call Id                     5000 non-null   object \n",
      " 1   Agent                       5000 non-null   object \n",
      " 2   Date                        5000 non-null   object \n",
      " 3   Time                        5000 non-null   object \n",
      " 4   Topic                       5000 non-null   object \n",
      " 5   Answered (Y/N)              5000 non-null   object \n",
      " 6   Resolved                    5000 non-null   object \n",
      " 7   Speed of answer in seconds  4054 non-null   float64\n",
      " 8   AvgTalkDuration             4054 non-null   object \n",
      " 9   Satisfaction rating         4054 non-null   float64\n",
      "dtypes: float64(2), object(8)\n",
      "memory usage: 390.8+ KB\n",
      "None\n"
     ]
    }
   ],
   "source": [
    "df = pd.read_csv('01 Call-Center-Dataset (2).csv')\n",
    "print(df.head())\n",
    "print(df.info())"
   ]
  },
  {
   "attachments": {},
   "cell_type": "markdown",
   "metadata": {},
   "source": [
    "1-  all incoming calls"
   ]
  },
  {
   "cell_type": "code",
   "execution_count": 4,
   "metadata": {},
   "outputs": [
    {
     "name": "stdout",
     "output_type": "stream",
     "text": [
      "5000\n"
     ]
    }
   ],
   "source": [
    "\n",
    "all_incoming_calls = df['Answered (Y/N)'].count()\n",
    "print(all_incoming_calls)"
   ]
  },
  {
   "attachments": {},
   "cell_type": "markdown",
   "metadata": {},
   "source": [
    "2-  all answered calls"
   ]
  },
  {
   "cell_type": "code",
   "execution_count": 5,
   "metadata": {},
   "outputs": [
    {
     "name": "stdout",
     "output_type": "stream",
     "text": [
      "4054\n"
     ]
    }
   ],
   "source": [
    "answerd_calls  = df[df['Answered (Y/N)'] == 'Y']\n",
    "all_answerd_calls = answerd_calls['Answered (Y/N)'].count()\n",
    "print(all_answerd_calls)"
   ]
  },
  {
   "attachments": {},
   "cell_type": "markdown",
   "metadata": {},
   "source": [
    "3- all abandoned calls"
   ]
  },
  {
   "cell_type": "code",
   "execution_count": 6,
   "metadata": {},
   "outputs": [
    {
     "name": "stdout",
     "output_type": "stream",
     "text": [
      "946\n"
     ]
    }
   ],
   "source": [
    "abandoned_calls = df[df['Answered (Y/N)'] == 'N']\n",
    "all_abandoned_calls = abandoned_calls['Answered (Y/N)'].count()\n",
    "print(all_abandoned_calls)"
   ]
  },
  {
   "attachments": {},
   "cell_type": "markdown",
   "metadata": {},
   "source": [
    "4- average customer satisfaction "
   ]
  },
  {
   "cell_type": "code",
   "execution_count": 7,
   "metadata": {},
   "outputs": [
    {
     "name": "stdout",
     "output_type": "stream",
     "text": [
      "count    4054.000000\n",
      "mean        3.403552\n",
      "std         1.212220\n",
      "min         1.000000\n",
      "25%         3.000000\n",
      "50%         3.000000\n",
      "75%         4.000000\n",
      "max         5.000000\n",
      "Name: Satisfaction rating, dtype: float64\n",
      "3.4\n"
     ]
    }
   ],
   "source": [
    "no_null = df.dropna()\n",
    "average_cSat = round(no_null['Satisfaction rating'].mean(), 2)\n",
    "print(no_null['Satisfaction rating'].describe())\n",
    "print(average_cSat)"
   ]
  },
  {
   "attachments": {},
   "cell_type": "markdown",
   "metadata": {},
   "source": [
    "#### 5- agents above cSat average:\n",
    "   first try to get all unique agents to know the total of agents in the dataset then calculate each agent average customer\n",
    "satisfaction and determine which avg is below the total avg"
   ]
  },
  {
   "cell_type": "code",
   "execution_count": 8,
   "metadata": {},
   "outputs": [
    {
     "name": "stdout",
     "output_type": "stream",
     "text": [
      "      name  avg_cSat\n",
      "1   Martha      3.47\n",
      "6      Dan      3.45\n",
      "5    Diane      3.41\n",
      "0  Stewart      3.40\n",
      "4     Greg      3.40\n",
      "3      Jim      3.39\n",
      "7    Becky      3.37\n",
      "2      Joe      3.33\n"
     ]
    },
    {
     "data": {
      "text/plain": [
       "<AxesSubplot: xlabel='name'>"
      ]
     },
     "execution_count": 8,
     "metadata": {},
     "output_type": "execute_result"
    },
    {
     "data": {
      "image/png": "[encoded data removed]",
      "text/plain": [
       "<Figure size 640x480 with 1 Axes>"
      ]
     },
     "metadata": {},
     "output_type": "display_data"
    }
   ],
   "source": [
    "## sort data by cSat:\n",
    "sorted_df = no_null.sort_values(['Satisfaction rating', 'Agent'], ascending=False)\n",
    "\n",
    "## agents names in the dataset:\n",
    "agents = sorted_df['Agent'].unique()\n",
    "\n",
    "\n",
    "## calculate each agent average customer satisfaction and put them in a list\n",
    "agent_avg_cSat = []\n",
    "def calls_per_agent(agents_arr):\n",
    "    for agent in agents_arr:\n",
    "        single_agent = sorted_df[sorted_df['Agent'] == agent]\n",
    "        avg_cSat_per_agent = round(single_agent['Satisfaction rating'].mean(), 2)\n",
    "        agent_avg_cSat.append([agent, avg_cSat_per_agent])\n",
    "    \n",
    "calls_per_agent(agents)\n",
    "\n",
    "agents_avg_cfm = pd.DataFrame(agent_avg_cSat, columns=['name', 'avg_cSat'])\n",
    "print(agents_avg_cfm.sort_values(['avg_cSat', 'name'], ascending=False))\n",
    "\n",
    "agents_avg_cfm.plot(x=\"name\", y=\"avg_cSat\", kind=\"bar\", ylim=(0,5))"
   ]
  },
  {
   "attachments": {},
   "cell_type": "markdown",
   "metadata": {},
   "source": [
    "-  agents above cSat avg"
   ]
  },
  {
   "cell_type": "code",
   "execution_count": 9,
   "metadata": {},
   "outputs": [
    {
     "name": "stdout",
     "output_type": "stream",
     "text": [
      "     name  avg_cSat\n",
      "1  Martha      3.47\n",
      "5   Diane      3.41\n",
      "6     Dan      3.45\n"
     ]
    }
   ],
   "source": [
    "above_cSat_avg = agents_avg_cfm[agents_avg_cfm['avg_cSat'] > average_cSat]\n",
    "print(above_cSat_avg)"
   ]
  },
  {
   "attachments": {},
   "cell_type": "markdown",
   "metadata": {},
   "source": [
    "6- months with highest cSat and months with most abandoned calls"
   ]
  },
  {
   "attachments": {},
   "cell_type": "markdown",
   "metadata": {},
   "source": [
    "-  months with most abandoned calls"
   ]
  },
  {
   "cell_type": "code",
   "execution_count": 10,
   "metadata": {},
   "outputs": [],
   "source": [
    "### replacing months with relevant number to calculate them\n",
    "for i in df['Date']:\n",
    "    if '-01-' in i:\n",
    "        df['Date'].replace(i, '1', inplace=True)\n",
    "    if '-02-' in i:\n",
    "        df['Date'].replace(i, '2', inplace=True)\n",
    "    if '-03-' in i:\n",
    "        df['Date'].replace(i, '3', inplace=True)"
   ]
  },
  {
   "cell_type": "code",
   "execution_count": 51,
   "metadata": {},
   "outputs": [
    {
     "data": {
      "text/plain": [
       "<AxesSubplot: xlabel='month'>"
      ]
     },
     "execution_count": 51,
     "metadata": {},
     "output_type": "execute_result"
    },
    {
     "data": {
      "image/png": "[encoded data removed]",
      "text/plain": [
       "<Figure size 640x480 with 1 Axes>"
      ]
     },
     "metadata": {},
     "output_type": "display_data"
    }
   ],
   "source": [
    "## each month data\n",
    "january = df[df['Date'] == '1']\n",
    "february = df[df['Date'] == '2']\n",
    "march = df[df['Date'] == '3']\n",
    "\n",
    "## each month abandoned calls\n",
    "january_abandoned_calls = january[january['Answered (Y/N)'] == 'N']['Answered (Y/N)'].count()\n",
    "february_abandoned_calls = february[february['Answered (Y/N)'] == 'N']['Answered (Y/N)'].count()\n",
    "march_abandoned_calls = march[march['Answered (Y/N)'] == 'N']['Answered (Y/N)'].count()\n",
    "\n",
    "months = ['January', 'February', 'March']\n",
    "abandoned_calls = [january_abandoned_calls, february_abandoned_calls, march_abandoned_calls]\n",
    "data = []\n",
    "\n",
    "for i, j in zip(months, abandoned_calls):\n",
    "    data.append({'month': i, 'abandoned_calls': j})\n",
    "\n",
    "months_df = pd.DataFrame(data)\n",
    "\n",
    "months_df.plot(x=\"month\", y=\"abandoned_calls\", kind=\"bar\", ylim=(0,400) , color='red', rot=0)"
   ]
  },
  {
   "cell_type": "code",
   "execution_count": 18,
   "metadata": {},
   "outputs": [
    {
     "name": "stdout",
     "output_type": "stream",
     "text": [
      "count    1455.000000\n",
      "mean        3.454296\n",
      "std         1.177129\n",
      "min         1.000000\n",
      "25%         3.000000\n",
      "50%         4.000000\n",
      "75%         4.000000\n",
      "max         5.000000\n",
      "Name: Satisfaction rating, dtype: float64\n",
      "count    1298.000000\n",
      "mean        3.377504\n",
      "std         1.232752\n",
      "min         1.000000\n",
      "25%         3.000000\n",
      "50%         4.000000\n",
      "75%         4.000000\n",
      "max         5.000000\n",
      "Name: Satisfaction rating, dtype: float64\n",
      "count    1301.000000\n",
      "mean        3.372790\n",
      "std         1.229195\n",
      "min         1.000000\n",
      "25%         3.000000\n",
      "50%         3.000000\n",
      "75%         4.000000\n",
      "max         5.000000\n",
      "Name: Satisfaction rating, dtype: float64\n"
     ]
    }
   ],
   "source": [
    "print(january['Satisfaction rating'].dropna().describe())\n",
    "print(february['Satisfaction rating'].dropna().describe())\n",
    "print(march['Satisfaction rating'].dropna().describe())"
   ]
  },
  {
   "cell_type": "code",
   "execution_count": null,
   "metadata": {},
   "outputs": [],
   "source": []
  }
 ],
 "metadata": {
  "kernelspec": {
   "display_name": "venv",
   "language": "python",
   "name": "python3"
  },
  "language_info": {
   "codemirror_mode": {
    "name": "ipython",
    "version": 3
   },
   "file_extension": ".py",
   "mimetype": "text/x-python",
   "name": "python",
   "nbconvert_exporter": "python",
   "pygments_lexer": "ipython3",
   "version": "3.11.1"
  },
  "orig_nbformat": 4,
  "vscode": {
   "interpreter": {
    "hash": "380b6ddae0339526d267ae5ff914d7949201c664c076a60595140e02cf01a489"
   }
  }
 },
 "nbformat": 4,
 "nbformat_minor": 2
}
